{
 "cells": [
  {
   "cell_type": "code",
   "execution_count": 1,
   "id": "a4cbfa76",
   "metadata": {},
   "outputs": [
    {
     "name": "stdout",
     "output_type": "stream",
     "text": [
      "chatbot agent\n"
     ]
    }
   ],
   "source": [
    "print(\"chatbot agent\")"
   ]
  },
  {
   "cell_type": "code",
   "execution_count": 8,
   "id": "564496e2",
   "metadata": {},
   "outputs": [],
   "source": [
    "import os\n",
    "from dotenv import load_dotenv"
   ]
  },
  {
   "cell_type": "code",
   "execution_count": 10,
   "id": "dc54d865",
   "metadata": {},
   "outputs": [],
   "source": [
    "GEMINI_API_KEY = os.environ.get(\"GEMINI_API_KEY\")\n",
    "GROQ_API_KEY = os.environ.get(\"GROQ_API_KEY\")\n",
    "TAVILY_API_KEY = os.environ.get(\"TAVILY_API_KEY\")"
   ]
  },
  {
   "cell_type": "code",
   "execution_count": 13,
   "id": "d28d916a",
   "metadata": {},
   "outputs": [],
   "source": [
    "os.environ[\"GOOGLE_API_KEY\"] = GEMINI_API_KEY"
   ]
  },
  {
   "cell_type": "code",
   "execution_count": 7,
   "id": "89425710",
   "metadata": {},
   "outputs": [],
   "source": [
    "from langchain_groq import ChatGroq\n",
    "from langchain_google_genai import ChatGoogleGenerativeAI\n",
    "from langchain.tools.tavily_search import TavilySearchResults"
   ]
  },
  {
   "cell_type": "code",
   "execution_count": 14,
   "id": "d46ef7ae",
   "metadata": {},
   "outputs": [
    {
     "data": {
      "text/plain": [
       "AIMessage(content='Hello there! How can I help you today?', additional_kwargs={}, response_metadata={'prompt_feedback': {'block_reason': 0, 'safety_ratings': []}, 'finish_reason': 'STOP', 'model_name': 'gemini-2.5-flash', 'safety_ratings': []}, id='run--e385f4b0-5fba-4209-998b-c1265943ef9e-0', usage_metadata={'input_tokens': 2, 'output_tokens': 34, 'total_tokens': 36, 'input_token_details': {'cache_read': 0}, 'output_token_details': {'reasoning': 24}})"
      ]
     },
     "execution_count": 14,
     "metadata": {},
     "output_type": "execute_result"
    }
   ],
   "source": [
    "gemini = ChatGoogleGenerativeAI(\n",
    "  model=\"gemini-2.5-flash\",\n",
    ")\n",
    "\n",
    "gemini.invoke(\"Hello\")"
   ]
  },
  {
   "cell_type": "code",
   "execution_count": 21,
   "id": "bc61d2a1",
   "metadata": {},
   "outputs": [
    {
     "data": {
      "text/plain": [
       "AIMessage(content='Hello. How can I assist you today?', additional_kwargs={}, response_metadata={'token_usage': {'completion_tokens': 10, 'prompt_tokens': 36, 'total_tokens': 46, 'completion_time': 0.016614576, 'prompt_time': 0.017179225, 'queue_time': 0.085242932, 'total_time': 0.033793801}, 'model_name': 'llama-3.3-70b-versatile', 'system_fingerprint': 'fp_3f3b593e33', 'service_tier': 'on_demand', 'finish_reason': 'stop', 'logprobs': None}, id='run--1336fef3-3494-48b1-a22a-f3edf8f01835-0', usage_metadata={'input_tokens': 36, 'output_tokens': 10, 'total_tokens': 46})"
      ]
     },
     "execution_count": 21,
     "metadata": {},
     "output_type": "execute_result"
    }
   ],
   "source": [
    "groq = ChatGroq(\n",
    "    model = \"llama-3.3-70b-versatile\"\n",
    ")\n",
    "groq.invoke(\"Hello\")"
   ]
  },
  {
   "cell_type": "code",
   "execution_count": 16,
   "id": "0c5bb6f6",
   "metadata": {},
   "outputs": [
    {
     "name": "stderr",
     "output_type": "stream",
     "text": [
      "C:\\Users\\PMLS\\AppData\\Local\\Temp\\ipykernel_23460\\600298588.py:1: LangChainDeprecationWarning: The class `TavilySearchResults` was deprecated in LangChain 0.3.25 and will be removed in 1.0. An updated version of the class exists in the :class:`~langchain-tavily package and should be used instead. To use it run `pip install -U :class:`~langchain-tavily` and import as `from :class:`~langchain_tavily import TavilySearch``.\n",
      "  search = TavilySearchResults(\n"
     ]
    }
   ],
   "source": [
    "search = TavilySearchResults(\n",
    "    max_results = 2\n",
    ")"
   ]
  },
  {
   "cell_type": "code",
   "execution_count": 18,
   "id": "0ba6d98d",
   "metadata": {},
   "outputs": [],
   "source": [
    "from langgraph.prebuilt import create_react_agent\n",
    "from langchain_core.messages.ai import AIMessage"
   ]
  },
  {
   "cell_type": "code",
   "execution_count": 22,
   "id": "c65501ca",
   "metadata": {},
   "outputs": [],
   "source": [
    "prompt = \"Act as a chatbot that always gives the reason why this answer is given\""
   ]
  },
  {
   "cell_type": "code",
   "execution_count": 26,
   "id": "63e6b22d",
   "metadata": {},
   "outputs": [],
   "source": [
    "agent = create_react_agent(\n",
    "    model=groq,          # This is your ChatGroq or LLM\n",
    "    tools=[search],      # Ensure this is a list\n",
    "    prompt=prompt        # Optional — custom prompt template\n",
    ")\n"
   ]
  },
  {
   "cell_type": "code",
   "execution_count": 29,
   "id": "6c3cbc91",
   "metadata": {},
   "outputs": [],
   "source": [
    "query = \"when pakistan was created\""
   ]
  },
  {
   "cell_type": "code",
   "execution_count": 30,
   "id": "c9779b16",
   "metadata": {},
   "outputs": [],
   "source": [
    "state = {\"messages\":query}"
   ]
  },
  {
   "cell_type": "code",
   "execution_count": 31,
   "id": "1d42e3fc",
   "metadata": {},
   "outputs": [],
   "source": [
    "response = agent.invoke(state)"
   ]
  },
  {
   "cell_type": "code",
   "execution_count": 32,
   "id": "225d76c6",
   "metadata": {},
   "outputs": [
    {
     "data": {
      "text/plain": [
       "{'messages': [HumanMessage(content='when pakistan was created', additional_kwargs={}, response_metadata={}, id='40be11e5-1bd1-4245-92e7-0468ecdf6a0b'),\n",
       "  AIMessage(content='', additional_kwargs={'tool_calls': [{'id': 'zbdmxhpsf', 'function': {'arguments': '{\"query\":\"Pakistan creation date\"}', 'name': 'tavily_search_results_json'}, 'type': 'function'}]}, response_metadata={'token_usage': {'completion_tokens': 68, 'prompt_tokens': 297, 'total_tokens': 365, 'completion_time': 0.23608616, 'prompt_time': 0.029480371, 'queue_time': 0.08401103200000001, 'total_time': 0.265566531}, 'model_name': 'llama-3.3-70b-versatile', 'system_fingerprint': 'fp_3f3b593e33', 'service_tier': 'on_demand', 'finish_reason': 'tool_calls', 'logprobs': None}, id='run--b9484332-7cc2-46e5-a665-17b5d853d5a1-0', tool_calls=[{'name': 'tavily_search_results_json', 'args': {'query': 'Pakistan creation date'}, 'id': 'zbdmxhpsf', 'type': 'tool_call'}], usage_metadata={'input_tokens': 297, 'output_tokens': 68, 'total_tokens': 365}),\n",
       "  ToolMessage(content='[{\"title\": \"Independence Day (Pakistan) - Wikipedia\", \"url\": \"https://en.wikipedia.org/wiki/Independence_Day_(Pakistan)\", \"content\": \"driving force behind the creation of Pakistan as a Muslim state in South Asia. During a three-day general session of All-India Muslim League from 22–24 March 1940, a formal political statement was presented, known as the Lahore Resolution, which called on for the creation of an independent state for Muslims. In 1956, 23 March also became the date on which Pakistan transitioned from a dominion to a republic, and is known as Pakistan Day. [...] On 14 August 1947, the new Dominion of Pakistan became independent and Muhammad Ali Jinnah was sworn in as its first governor general in Karachi. Independence was marked with widespread celebration, but the atmosphere remained heated given the communal riots prevalent during independence in 1947.\\\\n\\\\n### The date of independence [...] | Celebrations | Parades, Award ceremonies, singing patriotic songs and the national anthem, speeches by the president and prime minister. |\\\\n| Date | 14 August |\\\\n| Next time | 14 August 2025 (2025-08-14) |\\\\n| Frequency | Annual |\\\\n| First time | 14 August 1947 (77 years ago) (1947-08-14) |\\\\n| Related to | Pakistan Day |\", \"score\": 0.8727061}, {\"title\": \"Pakistan - Wikipedia\", \"url\": \"https://en.wikipedia.org/wiki/Pakistan\", \"content\": \"As the United Kingdom agreed to the partitioning of India, the modern state of Pakistan was established on 14 August 1947 \\\\\"Independence Day (Pakistan)\\\\\") (27th of Ramadan in 1366 of the Islamic Calendar, considered to be the most blessed date from an Islamic perspective). This new nation amalgamated the Muslim-majority eastern and northwestern regions \\\\\"Northwest India (pre-1947)\\\\\") of British India, comprising the provinces of Balochistan \\\\\"Balochistan (Pakistan)\\\\\"), East Bengal, the North-West [...] | • President | Asif Ali Zardari |\\\\n| • Prime Minister | Shehbaz Sharif |\\\\n| • Chairman of the Senate | Yusuf Raza Gilani |\\\\n| • Speaker of the National Assembly | Ayaz Sadiq |\\\\n| • Chief Justice | Yahya Afridi |\\\\n|  | |\\\\n| Legislature | Parliament |\\\\n| • Upper house | Senate |\\\\n| • Lower house | National Assembly |\\\\n| Independence from the United Kingdom | |\\\\n|  | |\\\\n| • Declaration | 23 March 1940 |\\\\n| • Recognized dominion | 14 August 1947 |\\\\n| • Republic | 23 March 1956 | [...] The Arab conqueror Muhammad ibn Qasim conquered Sindh and some regions of Punjab in 711 CE. The Pakistan government\\'s official chronology claims this as the time when the foundation of Pakistan was laid. The early medieval period (642–1219 CE) witnessed the spread of Islam in the region. Before the arrival of Islam beginning in the 8th century, the region of Pakistan was home to a diverse plethora of faiths, including Hinduism, Buddhism, Jainism and Zoroastrianism. During this period, Sufi\", \"score\": 0.83452857}]', name='tavily_search_results_json', id='7c536aa4-2d5c-4850-98b7-898f17996d95', tool_call_id='zbdmxhpsf', artifact={'query': 'Pakistan creation date', 'follow_up_questions': None, 'answer': None, 'images': [], 'results': [{'url': 'https://en.wikipedia.org/wiki/Independence_Day_(Pakistan)', 'title': 'Independence Day (Pakistan) - Wikipedia', 'content': 'driving force behind the creation of Pakistan as a Muslim state in South Asia. During a three-day general session of All-India Muslim League from 22–24 March 1940, a formal political statement was presented, known as the Lahore Resolution, which called on for the creation of an independent state for Muslims. In 1956, 23 March also became the date on which Pakistan transitioned from a dominion to a republic, and is known as Pakistan Day. [...] On 14 August 1947, the new Dominion of Pakistan became independent and Muhammad Ali Jinnah was sworn in as its first governor general in Karachi. Independence was marked with widespread celebration, but the atmosphere remained heated given the communal riots prevalent during independence in 1947.\\n\\n### The date of independence [...] | Celebrations | Parades, Award ceremonies, singing patriotic songs and the national anthem, speeches by the president and prime minister. |\\n| Date | 14 August |\\n| Next time | 14 August 2025 (2025-08-14) |\\n| Frequency | Annual |\\n| First time | 14 August 1947 (77 years ago) (1947-08-14) |\\n| Related to | Pakistan Day |', 'score': 0.8727061, 'raw_content': None}, {'url': 'https://en.wikipedia.org/wiki/Pakistan', 'title': 'Pakistan - Wikipedia', 'content': 'As the United Kingdom agreed to the partitioning of India, the modern state of Pakistan was established on 14 August 1947 \"Independence Day (Pakistan)\") (27th of Ramadan in 1366 of the Islamic Calendar, considered to be the most blessed date from an Islamic perspective). This new nation amalgamated the Muslim-majority eastern and northwestern regions \"Northwest India (pre-1947)\") of British India, comprising the provinces of Balochistan \"Balochistan (Pakistan)\"), East Bengal, the North-West [...] | • President | Asif Ali Zardari |\\n| • Prime Minister | Shehbaz Sharif |\\n| • Chairman of the Senate | Yusuf Raza Gilani |\\n| • Speaker of the National Assembly | Ayaz Sadiq |\\n| • Chief Justice | Yahya Afridi |\\n|  | |\\n| Legislature | Parliament |\\n| • Upper house | Senate |\\n| • Lower house | National Assembly |\\n| Independence from the United Kingdom | |\\n|  | |\\n| • Declaration | 23 March 1940 |\\n| • Recognized dominion | 14 August 1947 |\\n| • Republic | 23 March 1956 | [...] The Arab conqueror Muhammad ibn Qasim conquered Sindh and some regions of Punjab in 711 CE. The Pakistan government\\'s official chronology claims this as the time when the foundation of Pakistan was laid. The early medieval period (642–1219 CE) witnessed the spread of Islam in the region. Before the arrival of Islam beginning in the 8th century, the region of Pakistan was home to a diverse plethora of faiths, including Hinduism, Buddhism, Jainism and Zoroastrianism. During this period, Sufi', 'score': 0.83452857, 'raw_content': None}], 'response_time': 4.12}),\n",
       "  AIMessage(content='Pakistan was created on August 14, 1947. This answer is given because the search results from the function call provide information about the creation of Pakistan, including its independence from the United Kingdom and the establishment of the new Dominion of Pakistan. The Wikipedia article on Independence Day (Pakistan) states that Pakistan became independent on August 14, 1947, and Muhammad Ali Jinnah was sworn in as its first governor general in Karachi.', additional_kwargs={}, response_metadata={'token_usage': {'completion_tokens': 90, 'prompt_tokens': 1036, 'total_tokens': 1126, 'completion_time': 0.257341079, 'prompt_time': 0.084179641, 'queue_time': 0.08733541, 'total_time': 0.34152072}, 'model_name': 'llama-3.3-70b-versatile', 'system_fingerprint': 'fp_9a8b91ba77', 'service_tier': 'on_demand', 'finish_reason': 'stop', 'logprobs': None}, id='run--5c817ddc-f439-4baa-86ca-416be4bb8daf-0', usage_metadata={'input_tokens': 1036, 'output_tokens': 90, 'total_tokens': 1126})]}"
      ]
     },
     "execution_count": 32,
     "metadata": {},
     "output_type": "execute_result"
    }
   ],
   "source": [
    "response"
   ]
  },
  {
   "cell_type": "code",
   "execution_count": 42,
   "id": "dab496ea",
   "metadata": {},
   "outputs": [
    {
     "data": {
      "text/plain": [
       "'Pakistan was created on August 14, 1947. This answer is given because the search results from the function call provide information about the creation of Pakistan, including its independence from the United Kingdom and the establishment of the new Dominion of Pakistan. The Wikipedia article on Independence Day (Pakistan) states that Pakistan became independent on August 14, 1947, and Muhammad Ali Jinnah was sworn in as its first governor general in Karachi.'"
      ]
     },
     "execution_count": 42,
     "metadata": {},
     "output_type": "execute_result"
    }
   ],
   "source": [
    "response[\"messages\"][-1].content"
   ]
  }
 ],
 "metadata": {
  "kernelspec": {
   "display_name": "venv",
   "language": "python",
   "name": "python3"
  },
  "language_info": {
   "codemirror_mode": {
    "name": "ipython",
    "version": 3
   },
   "file_extension": ".py",
   "mimetype": "text/x-python",
   "name": "python",
   "nbconvert_exporter": "python",
   "pygments_lexer": "ipython3",
   "version": "3.12.8"
  }
 },
 "nbformat": 4,
 "nbformat_minor": 5
}
